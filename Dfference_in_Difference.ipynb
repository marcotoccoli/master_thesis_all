{
 "cells": [
  {
   "cell_type": "code",
   "execution_count": 599,
   "metadata": {},
   "outputs": [],
   "source": [
    "import pandas as pd\n",
    "import numpy as np\n",
    "import matplotlib.pyplot as plt\n",
    "from datetime import datetime, timedelta\n",
    "import matplotlib.pyplot as plt\n",
    "import matplotlib.ticker as ticker\n",
    "import statsmodels.api as sm\n",
    "import statsmodels.formula.api as smf\n",
    "from textblob import TextBlob\n",
    "import re\n",
    "import json"
   ]
  },
  {
   "cell_type": "markdown",
   "metadata": {},
   "source": [
    "DATASET LOADING"
   ]
  },
  {
   "cell_type": "code",
   "execution_count": 600,
   "metadata": {},
   "outputs": [],
   "source": [
    "#Read the files\n",
    "normal_reviews = pd.read_csv('outcomes/relevant_reviews.csv')  \n",
    "not_recommended = pd.read_csv('outcomes/not-recommended-reviews.csv') "
   ]
  },
  {
   "cell_type": "code",
   "execution_count": 601,
   "metadata": {},
   "outputs": [
    {
     "name": "stdout",
     "output_type": "stream",
     "text": [
      "The dataset contains 82982 normal reviews and 9683 not recommended reviews\n",
      "there are 505 unique businesses in the dataset\n",
      "\n",
      "First normal-review-date: 2005-02-16 04:06:26\n",
      "Last normal-review-date: 2022-01-19 18:05:57\n"
     ]
    }
   ],
   "source": [
    "print(f'The dataset contains {len(normal_reviews)} normal reviews and {len(not_recommended)} not recommended reviews')\n",
    "print(f'there are {normal_reviews[\"business_id\"].nunique()} unique businesses in the dataset')\n",
    "print()  \n",
    "\n",
    "print(f\"First normal-review-date: {normal_reviews['date'].min()}\")\n",
    "print(f\"Last normal-review-date: {normal_reviews['date'].max()}\")"
   ]
  },
  {
   "cell_type": "markdown",
   "metadata": {},
   "source": [
    "SELECT CUTOFF AND TIMEDELTA"
   ]
  },
  {
   "cell_type": "code",
   "execution_count": 602,
   "metadata": {},
   "outputs": [],
   "source": [
    "#select a cut_off date\n",
    "cut_off_date = pd.to_datetime(\"2013-11-14\")\n",
    "\n",
    "#select time delta to define pre- post- periods \n",
    "time_delta = pd.Timedelta(weeks=12)\n",
    "\n",
    "start_date = cut_off_date - time_delta\n",
    "end_date = cut_off_date + time_delta"
   ]
  },
  {
   "cell_type": "markdown",
   "metadata": {},
   "source": [
    "DATA CLEANING"
   ]
  },
  {
   "cell_type": "code",
   "execution_count": 603,
   "metadata": {},
   "outputs": [],
   "source": [
    "#Drop review id, 'useful', 'funny', 'cool. I dont think we need it.\n",
    "normal_reviews = normal_reviews.drop(['useful','review_id', 'funny','cool'], axis=1)"
   ]
  },
  {
   "cell_type": "code",
   "execution_count": 604,
   "metadata": {},
   "outputs": [],
   "source": [
    "#Fix the date format.\n",
    "normal_reviews['date'] = pd.to_datetime(normal_reviews['date'])\n",
    "\n",
    "not_recommended['review_date'] = not_recommended['review_date'].str.split('\\n').str[0]\n",
    "not_recommended['review_date'] = pd.to_datetime(not_recommended['review_date'], format='%d.%m.%Y', errors='coerce')"
   ]
  },
  {
   "cell_type": "code",
   "execution_count": 605,
   "metadata": {},
   "outputs": [],
   "source": [
    "#Fix the textual content (should facilitate TextBlob)\n",
    "def clean_text(text):\n",
    "    text = text.lower()\n",
    "    text = text.replace('\\n', ' ')\n",
    "\n",
    "    return text\n",
    "\n",
    "# Apply cleaning function to the DataFrame\n",
    "normal_reviews['text'] = normal_reviews['text'].apply(clean_text)"
   ]
  },
  {
   "cell_type": "code",
   "execution_count": 606,
   "metadata": {},
   "outputs": [
    {
     "data": {
      "text/html": [
       "<div>\n",
       "<style scoped>\n",
       "    .dataframe tbody tr th:only-of-type {\n",
       "        vertical-align: middle;\n",
       "    }\n",
       "\n",
       "    .dataframe tbody tr th {\n",
       "        vertical-align: top;\n",
       "    }\n",
       "\n",
       "    .dataframe thead th {\n",
       "        text-align: right;\n",
       "    }\n",
       "</style>\n",
       "<table border=\"1\" class=\"dataframe\">\n",
       "  <thead>\n",
       "    <tr style=\"text-align: right;\">\n",
       "      <th></th>\n",
       "      <th>user_id</th>\n",
       "      <th>business_id</th>\n",
       "      <th>stars</th>\n",
       "      <th>text</th>\n",
       "      <th>date</th>\n",
       "    </tr>\n",
       "  </thead>\n",
       "  <tbody>\n",
       "    <tr>\n",
       "      <th>0</th>\n",
       "      <td>smOvOajNG0lS4Pq7d8g4JQ</td>\n",
       "      <td>RZtGWDLCAtuipwaZ-UfjmQ</td>\n",
       "      <td>4</td>\n",
       "      <td>good food--loved the gnocchi with marinara the...</td>\n",
       "      <td>2009-10-14 19:57:14</td>\n",
       "    </tr>\n",
       "    <tr>\n",
       "      <th>1</th>\n",
       "      <td>9oHOoqk-HlwDS2DlHLi_0g</td>\n",
       "      <td>TttFjRQ-8Iz8by4hsD7iOQ</td>\n",
       "      <td>5</td>\n",
       "      <td>last night we tried to get into the oldest ita...</td>\n",
       "      <td>2017-11-06 17:26:43</td>\n",
       "    </tr>\n",
       "    <tr>\n",
       "      <th>2</th>\n",
       "      <td>gSEhdaQNcewg-ob6xSgleQ</td>\n",
       "      <td>1NCUTTp6rIyXpwUDVv9qOA</td>\n",
       "      <td>2</td>\n",
       "      <td>i had to write an order after coming here a co...</td>\n",
       "      <td>2016-06-22 21:51:03</td>\n",
       "    </tr>\n",
       "    <tr>\n",
       "      <th>3</th>\n",
       "      <td>JW5W4OZCohTvZlRF1jzrTg</td>\n",
       "      <td>u7_3L1NBWgxhBM_B-cmmnA</td>\n",
       "      <td>4</td>\n",
       "      <td>this amazing brick oven pizza joint gets bette...</td>\n",
       "      <td>2017-04-30 15:00:27</td>\n",
       "    </tr>\n",
       "    <tr>\n",
       "      <th>4</th>\n",
       "      <td>7ktyPHE-NGnWxarOqjIQiQ</td>\n",
       "      <td>CinrOH8rMB2hEvPY_iFOHA</td>\n",
       "      <td>1</td>\n",
       "      <td>i really wanted to like casselli's, but it was...</td>\n",
       "      <td>2009-03-02 02:05:49</td>\n",
       "    </tr>\n",
       "  </tbody>\n",
       "</table>\n",
       "</div>"
      ],
      "text/plain": [
       "                  user_id             business_id  stars  \\\n",
       "0  smOvOajNG0lS4Pq7d8g4JQ  RZtGWDLCAtuipwaZ-UfjmQ      4   \n",
       "1  9oHOoqk-HlwDS2DlHLi_0g  TttFjRQ-8Iz8by4hsD7iOQ      5   \n",
       "2  gSEhdaQNcewg-ob6xSgleQ  1NCUTTp6rIyXpwUDVv9qOA      2   \n",
       "3  JW5W4OZCohTvZlRF1jzrTg  u7_3L1NBWgxhBM_B-cmmnA      4   \n",
       "4  7ktyPHE-NGnWxarOqjIQiQ  CinrOH8rMB2hEvPY_iFOHA      1   \n",
       "\n",
       "                                                text                date  \n",
       "0  good food--loved the gnocchi with marinara the... 2009-10-14 19:57:14  \n",
       "1  last night we tried to get into the oldest ita... 2017-11-06 17:26:43  \n",
       "2  i had to write an order after coming here a co... 2016-06-22 21:51:03  \n",
       "3  this amazing brick oven pizza joint gets bette... 2017-04-30 15:00:27  \n",
       "4  i really wanted to like casselli's, but it was... 2009-03-02 02:05:49  "
      ]
     },
     "execution_count": 606,
     "metadata": {},
     "output_type": "execute_result"
    }
   ],
   "source": [
    "#Starting dataset normal reviews after cleaning\n",
    "normal_reviews.head(5)"
   ]
  },
  {
   "cell_type": "code",
   "execution_count": 607,
   "metadata": {},
   "outputs": [
    {
     "data": {
      "text/html": [
       "<div>\n",
       "<style scoped>\n",
       "    .dataframe tbody tr th:only-of-type {\n",
       "        vertical-align: middle;\n",
       "    }\n",
       "\n",
       "    .dataframe tbody tr th {\n",
       "        vertical-align: top;\n",
       "    }\n",
       "\n",
       "    .dataframe thead th {\n",
       "        text-align: right;\n",
       "    }\n",
       "</style>\n",
       "<table border=\"1\" class=\"dataframe\">\n",
       "  <thead>\n",
       "    <tr style=\"text-align: right;\">\n",
       "      <th></th>\n",
       "      <th>business_id</th>\n",
       "      <th>user_name</th>\n",
       "      <th>user_location</th>\n",
       "      <th>has_image</th>\n",
       "      <th>friends_count</th>\n",
       "      <th>reviews_count</th>\n",
       "      <th>photos_count</th>\n",
       "      <th>rating</th>\n",
       "      <th>review_date</th>\n",
       "      <th>language</th>\n",
       "      <th>review_text</th>\n",
       "    </tr>\n",
       "  </thead>\n",
       "  <tbody>\n",
       "    <tr>\n",
       "      <th>0</th>\n",
       "      <td>QdN72BWoyFypdGJhhI5r7g</td>\n",
       "      <td>C C.</td>\n",
       "      <td>Philadelphia, Vereinigte Staaten</td>\n",
       "      <td>False</td>\n",
       "      <td>0</td>\n",
       "      <td>1</td>\n",
       "      <td>0</td>\n",
       "      <td>1.0 Sterne</td>\n",
       "      <td>2016-11-06</td>\n",
       "      <td>en</td>\n",
       "      <td>Totally dissapionted and a big boo!, Maybe the...</td>\n",
       "    </tr>\n",
       "    <tr>\n",
       "      <th>1</th>\n",
       "      <td>QdN72BWoyFypdGJhhI5r7g</td>\n",
       "      <td>Edward M.</td>\n",
       "      <td>Philadelphia, Vereinigte Staaten</td>\n",
       "      <td>False</td>\n",
       "      <td>0</td>\n",
       "      <td>13</td>\n",
       "      <td>0</td>\n",
       "      <td>2.0 Sterne</td>\n",
       "      <td>2019-06-30</td>\n",
       "      <td>en</td>\n",
       "      <td>Pros: good food. Decent drinks. Nice neighborh...</td>\n",
       "    </tr>\n",
       "    <tr>\n",
       "      <th>2</th>\n",
       "      <td>QdN72BWoyFypdGJhhI5r7g</td>\n",
       "      <td>Isabel W.</td>\n",
       "      <td>Mercer Island, Vereinigte Staaten</td>\n",
       "      <td>False</td>\n",
       "      <td>65</td>\n",
       "      <td>59</td>\n",
       "      <td>1 Foto</td>\n",
       "      <td>3.0 Sterne</td>\n",
       "      <td>2019-06-02</td>\n",
       "      <td>en</td>\n",
       "      <td>Good, honey bar, but it hardly ever has dark b...</td>\n",
       "    </tr>\n",
       "    <tr>\n",
       "      <th>3</th>\n",
       "      <td>QdN72BWoyFypdGJhhI5r7g</td>\n",
       "      <td>Katherine T.</td>\n",
       "      <td>Camden County, Vereinigte Staaten</td>\n",
       "      <td>False</td>\n",
       "      <td>308</td>\n",
       "      <td>3</td>\n",
       "      <td>0</td>\n",
       "      <td>5.0 Sterne</td>\n",
       "      <td>2019-07-12</td>\n",
       "      <td>en</td>\n",
       "      <td>Phenomenal customer service. Jules is amazing....</td>\n",
       "    </tr>\n",
       "    <tr>\n",
       "      <th>4</th>\n",
       "      <td>QdN72BWoyFypdGJhhI5r7g</td>\n",
       "      <td>Jay M.</td>\n",
       "      <td>Millstone, Vereinigte Staaten</td>\n",
       "      <td>True</td>\n",
       "      <td>187</td>\n",
       "      <td>2</td>\n",
       "      <td>0</td>\n",
       "      <td>5.0 Sterne</td>\n",
       "      <td>2017-02-09</td>\n",
       "      <td>en</td>\n",
       "      <td>Great food, great service. Best happy hour aro...</td>\n",
       "    </tr>\n",
       "  </tbody>\n",
       "</table>\n",
       "</div>"
      ],
      "text/plain": [
       "              business_id     user_name                      user_location  \\\n",
       "0  QdN72BWoyFypdGJhhI5r7g          C C.   Philadelphia, Vereinigte Staaten   \n",
       "1  QdN72BWoyFypdGJhhI5r7g     Edward M.   Philadelphia, Vereinigte Staaten   \n",
       "2  QdN72BWoyFypdGJhhI5r7g     Isabel W.  Mercer Island, Vereinigte Staaten   \n",
       "3  QdN72BWoyFypdGJhhI5r7g  Katherine T.  Camden County, Vereinigte Staaten   \n",
       "4  QdN72BWoyFypdGJhhI5r7g        Jay M.      Millstone, Vereinigte Staaten   \n",
       "\n",
       "   has_image  friends_count  reviews_count photos_count      rating  \\\n",
       "0      False              0              1            0  1.0 Sterne   \n",
       "1      False              0             13            0  2.0 Sterne   \n",
       "2      False             65             59       1 Foto  3.0 Sterne   \n",
       "3      False            308              3            0  5.0 Sterne   \n",
       "4       True            187              2            0  5.0 Sterne   \n",
       "\n",
       "  review_date language                                        review_text  \n",
       "0  2016-11-06       en  Totally dissapionted and a big boo!, Maybe the...  \n",
       "1  2019-06-30       en  Pros: good food. Decent drinks. Nice neighborh...  \n",
       "2  2019-06-02       en  Good, honey bar, but it hardly ever has dark b...  \n",
       "3  2019-07-12       en  Phenomenal customer service. Jules is amazing....  \n",
       "4  2017-02-09       en  Great food, great service. Best happy hour aro...  "
      ]
     },
     "execution_count": 607,
     "metadata": {},
     "output_type": "execute_result"
    }
   ],
   "source": [
    "#Starting dataset not-recommended reviews\n",
    "not_recommended.head()"
   ]
  },
  {
   "cell_type": "markdown",
   "metadata": {},
   "source": [
    "ANALYZING DATA PRE-TREATMENT"
   ]
  },
  {
   "cell_type": "code",
   "execution_count": 608,
   "metadata": {},
   "outputs": [
    {
     "name": "stdout",
     "output_type": "stream",
     "text": [
      "12 weeks pre-treat contains: 1655 normal revies and 228 not recommended reviews\n",
      "q1 1.0 is q4 is 7.0\n"
     ]
    },
    {
     "data": {
      "image/png": "[encoded data removed]",
      "text/plain": [
       "<Figure size 1000x600 with 1 Axes>"
      ]
     },
     "metadata": {},
     "output_type": "display_data"
    }
   ],
   "source": [
    "#check distribution of the not-recommended in pre-treatment  (q1-q4)\n",
    "\n",
    "start_date_pre = cut_off_date - time_delta\n",
    "\n",
    "#select only reviews in the time_delta range\n",
    "#between start_data and cut_off_date\n",
    "normal_pre_treat = normal_reviews[(normal_reviews['date'] >= start_date_pre) & (normal_reviews['date'] <= cut_off_date)]\n",
    "not_rec_pre_treat = not_recommended[(not_recommended['review_date'] >= start_date_pre) & (not_recommended['review_date'] <= cut_off_date)]\n",
    "\n",
    "print(f'12 weeks pre-treat contains: {len(normal_pre_treat)} normal revies and {len(not_rec_pre_treat)} not recommended reviews')\n",
    "\n",
    "#group by business_id\n",
    "group_pre_treatment_normal = normal_pre_treat.groupby(by='business_id').size().reset_index(name='count')\n",
    "group_pre_treatment_not_rec = not_rec_pre_treat.groupby(by='business_id').size().reset_index(name='count')\n",
    "\n",
    "#plot\n",
    "plt.figure(figsize=(10, 6))\n",
    "\n",
    "plt.hist(group_pre_treatment_normal['count'], bins=40, alpha=0.5, label='Normal Pre-Treatment')\n",
    "plt.hist(group_pre_treatment_not_rec['count'], bins=40, alpha=0.5, label='Not Rec Pre-Treatment')\n",
    "\n",
    "plt.title('Comparison of Counts by Business ID')\n",
    "plt.xlabel('Count')\n",
    "plt.ylabel('Frequency')\n",
    "plt.legend()\n",
    "\n",
    "ax = plt.gca()  # Get current axis\n",
    "ax.xaxis.set_major_locator(ticker.MaxNLocator(integer=True, nbins=20)) \n",
    "\n",
    "q1 = group_pre_treatment_normal['count'].quantile(0.25)\n",
    "q4 = group_pre_treatment_normal['count'].quantile(0.75)\n",
    "\n",
    "print(f\"q1 {q1} is q4 is {q4}\")"
   ]
  },
  {
   "cell_type": "markdown",
   "metadata": {},
   "source": [
    "PREPARING DATA FOR DIFFERENCE IN DIFFERENCE (WHOLE DATASET)"
   ]
  },
  {
   "cell_type": "code",
   "execution_count": 609,
   "metadata": {},
   "outputs": [],
   "source": [
    "#DECIDE IF REVIEWS ARE DONE BEFORE OR AFTER CUT_OFF_DATE\n",
    "\n",
    "#decide if the reviews are pre or post cut_off_date (0 pre - 1 post) (Change Dummy)\n",
    "normal_reviews['cut_off_date'] = (normal_reviews['date'] >= cut_off_date).astype(int)\n",
    "not_recommended['cut_off_date'] = (not_recommended['review_date'] >= cut_off_date).astype(int)\n"
   ]
  },
  {
   "cell_type": "code",
   "execution_count": 610,
   "metadata": {},
   "outputs": [],
   "source": [
    "#DO NOT DELETE\n",
    "#DO NOT DELETE\n",
    "#DO NOT DELETE\n",
    "\n",
    "# #COUNT amount of  normal PRE and POST change (whole dataset, not only -12 cut_off +12 cut_off)\n",
    "\n",
    "# #Get total number of normal reviews PRE CUTOFF DATE --> #3316\n",
    "# count_normal_reviews_pre = len(normal_reviews[normal_reviews['cut_off_date'] == 0])\n",
    "# #Get total number of not recommended reviews POST CUTOFF DATE --> #6367\n",
    "# count_normal_reviews_after = len(normal_reviews[normal_reviews['cut_off_date'] == 1])\n",
    "\n",
    "# #Get total number of not recommended reviews PRE CUTOFF DATE --> #3316\n",
    "# count_not_rec_reviews_pre = len(not_recommended[not_recommended['cut_off_date'] == 0])\n",
    "# #Get total number of not recommended reviews POST CUTOFF DATE --> #6367\n",
    "# count_not_rec_reviews_after = len(not_recommended[not_recommended['cut_off_date'] == 1])\n",
    "\n",
    "\n",
    "# print(f\"Total normal reviews {count_normal_reviews_pre + count_normal_reviews_after} (whole dataset)\")\n",
    "# print(f\"Total normal reviews PRE CUTOFF DATE: {count_normal_reviews_pre}, POST CUTOFF DATE: {count_normal_reviews_after}\")\n",
    "\n",
    "# print(f\"Total not recommended reviews {count_not_rec_reviews_after + count_not_rec_reviews_pre} (whole dataset)\")\n",
    "# print(f\"Total not recommended reviews PRE CUTOFF DATE: {count_not_rec_reviews_pre}, POST CUTOFF DATE: {count_not_rec_reviews_after}\")"
   ]
  },
  {
   "cell_type": "code",
   "execution_count": 611,
   "metadata": {},
   "outputs": [],
   "source": [
    "#CREATE TOTAL NUMBER OF NOT_RECOMMENDED_TILL_CUT_OFF_DATE\n",
    "\n",
    "#Discard everything after cut_off_date\n",
    "business_id_number_not_rec = not_recommended[not_recommended['cut_off_date'] == 0] \n",
    "\n",
    "#Group by business_id and count number of reviews before policy change\n",
    "business_id_number_not_rec = business_id_number_not_rec.groupby('business_id').size().reset_index(name='not_recommended_review_count_pre') "
   ]
  },
  {
   "cell_type": "code",
   "execution_count": 612,
   "metadata": {},
   "outputs": [
    {
     "data": {
      "text/html": [
       "<div>\n",
       "<style scoped>\n",
       "    .dataframe tbody tr th:only-of-type {\n",
       "        vertical-align: middle;\n",
       "    }\n",
       "\n",
       "    .dataframe tbody tr th {\n",
       "        vertical-align: top;\n",
       "    }\n",
       "\n",
       "    .dataframe thead th {\n",
       "        text-align: right;\n",
       "    }\n",
       "</style>\n",
       "<table border=\"1\" class=\"dataframe\">\n",
       "  <thead>\n",
       "    <tr style=\"text-align: right;\">\n",
       "      <th></th>\n",
       "      <th>user_id</th>\n",
       "      <th>business_id</th>\n",
       "      <th>stars</th>\n",
       "      <th>text</th>\n",
       "      <th>date</th>\n",
       "      <th>cut_off_date</th>\n",
       "      <th>not_recommended_review_count_pre</th>\n",
       "    </tr>\n",
       "  </thead>\n",
       "  <tbody>\n",
       "    <tr>\n",
       "      <th>0</th>\n",
       "      <td>smOvOajNG0lS4Pq7d8g4JQ</td>\n",
       "      <td>RZtGWDLCAtuipwaZ-UfjmQ</td>\n",
       "      <td>4</td>\n",
       "      <td>good food--loved the gnocchi with marinara the...</td>\n",
       "      <td>2009-10-14 19:57:14</td>\n",
       "      <td>0</td>\n",
       "      <td>9.0</td>\n",
       "    </tr>\n",
       "    <tr>\n",
       "      <th>1</th>\n",
       "      <td>9oHOoqk-HlwDS2DlHLi_0g</td>\n",
       "      <td>TttFjRQ-8Iz8by4hsD7iOQ</td>\n",
       "      <td>5</td>\n",
       "      <td>last night we tried to get into the oldest ita...</td>\n",
       "      <td>2017-11-06 17:26:43</td>\n",
       "      <td>1</td>\n",
       "      <td>0.0</td>\n",
       "    </tr>\n",
       "    <tr>\n",
       "      <th>2</th>\n",
       "      <td>gSEhdaQNcewg-ob6xSgleQ</td>\n",
       "      <td>1NCUTTp6rIyXpwUDVv9qOA</td>\n",
       "      <td>2</td>\n",
       "      <td>i had to write an order after coming here a co...</td>\n",
       "      <td>2016-06-22 21:51:03</td>\n",
       "      <td>1</td>\n",
       "      <td>6.0</td>\n",
       "    </tr>\n",
       "    <tr>\n",
       "      <th>3</th>\n",
       "      <td>JW5W4OZCohTvZlRF1jzrTg</td>\n",
       "      <td>u7_3L1NBWgxhBM_B-cmmnA</td>\n",
       "      <td>4</td>\n",
       "      <td>this amazing brick oven pizza joint gets bette...</td>\n",
       "      <td>2017-04-30 15:00:27</td>\n",
       "      <td>1</td>\n",
       "      <td>4.0</td>\n",
       "    </tr>\n",
       "    <tr>\n",
       "      <th>4</th>\n",
       "      <td>7ktyPHE-NGnWxarOqjIQiQ</td>\n",
       "      <td>CinrOH8rMB2hEvPY_iFOHA</td>\n",
       "      <td>1</td>\n",
       "      <td>i really wanted to like casselli's, but it was...</td>\n",
       "      <td>2009-03-02 02:05:49</td>\n",
       "      <td>0</td>\n",
       "      <td>2.0</td>\n",
       "    </tr>\n",
       "  </tbody>\n",
       "</table>\n",
       "</div>"
      ],
      "text/plain": [
       "                  user_id             business_id  stars  \\\n",
       "0  smOvOajNG0lS4Pq7d8g4JQ  RZtGWDLCAtuipwaZ-UfjmQ      4   \n",
       "1  9oHOoqk-HlwDS2DlHLi_0g  TttFjRQ-8Iz8by4hsD7iOQ      5   \n",
       "2  gSEhdaQNcewg-ob6xSgleQ  1NCUTTp6rIyXpwUDVv9qOA      2   \n",
       "3  JW5W4OZCohTvZlRF1jzrTg  u7_3L1NBWgxhBM_B-cmmnA      4   \n",
       "4  7ktyPHE-NGnWxarOqjIQiQ  CinrOH8rMB2hEvPY_iFOHA      1   \n",
       "\n",
       "                                                text                date  \\\n",
       "0  good food--loved the gnocchi with marinara the... 2009-10-14 19:57:14   \n",
       "1  last night we tried to get into the oldest ita... 2017-11-06 17:26:43   \n",
       "2  i had to write an order after coming here a co... 2016-06-22 21:51:03   \n",
       "3  this amazing brick oven pizza joint gets bette... 2017-04-30 15:00:27   \n",
       "4  i really wanted to like casselli's, but it was... 2009-03-02 02:05:49   \n",
       "\n",
       "   cut_off_date  not_recommended_review_count_pre  \n",
       "0             0                               9.0  \n",
       "1             1                               0.0  \n",
       "2             1                               6.0  \n",
       "3             1                               4.0  \n",
       "4             0                               2.0  "
      ]
     },
     "execution_count": 612,
     "metadata": {},
     "output_type": "execute_result"
    }
   ],
   "source": [
    "#ADD not_recommended_review_count_pre to the normal reviews\n",
    "\n",
    "#Join this with every review in the normal-review-dataset\n",
    "merged_data_updated = pd.merge(normal_reviews, business_id_number_not_rec, on='business_id', how='left')\n",
    "#Fill 0 means the had no NOT-RECOMMENDED\n",
    "merged_data_updated['not_recommended_review_count_pre'] = merged_data_updated['not_recommended_review_count_pre'].fillna(0)\n",
    "\n",
    "merged_data_updated.head()"
   ]
  },
  {
   "cell_type": "code",
   "execution_count": 613,
   "metadata": {},
   "outputs": [],
   "source": [
    "#CONTROL OR TREATMENT? --> THIS ADJUST\n",
    "#Focus on q1 (bottom 25% of number of not recommended) for control group and q4 (top 25% of number of not recommended) for treatment group\n",
    "\n",
    "#line below only if we do quarite .33 .54 etc\n",
    "#unique_restaurants_df = merged_data_updated.drop_duplicates(subset='business_id', keep='first')\n",
    "\n",
    "q1_value = 2\n",
    "q4_value = 11\n",
    "\n",
    "#Remove those in q2 and q3\n",
    "merged_data_updated = merged_data_updated[\n",
    "    (merged_data_updated['not_recommended_review_count_pre'] <= q1_value) |\n",
    "    (merged_data_updated['not_recommended_review_count_pre'] >= q4_value)\n",
    "]\n",
    "\n",
    "#ADD TREATMENT OR CONTROL BINARY\n",
    "\n",
    "merged_data_updated['treatment'] = merged_data_updated['not_recommended_review_count_pre'].apply(\n",
    "    lambda x: 0 if x <= q1_value else 1)\n",
    "\n",
    "#4. how many restaurants?\n",
    "control_group_count = merged_data_updated[merged_data_updated['treatment'] == 0]['business_id'].nunique()\n",
    "treatment_group_count = merged_data_updated[merged_data_updated['treatment'] == 1]['business_id'].nunique()\n",
    "\n",
    "\n",
    "#print(f\"Control Group: {control_group_count} businesses, Treatment Group: {treatment_group_count} businesses\")\n",
    "#print(f\"there are {len(merged_data_updated)} reviews\")"
   ]
  },
  {
   "cell_type": "code",
   "execution_count": 614,
   "metadata": {},
   "outputs": [],
   "source": [
    "#FILTER ONLY FOR +/- TIMEDELTA\n",
    "\n",
    "#select only reviews in the time_delta range\n",
    "filtered_data = merged_data_updated[(merged_data_updated['date'] >= start_date) & (merged_data_updated['date'] <= end_date)]"
   ]
  },
  {
   "cell_type": "code",
   "execution_count": 615,
   "metadata": {},
   "outputs": [],
   "source": [
    "control_group_count = filtered_data[filtered_data['treatment'] == 0]['business_id'].nunique()\n",
    "treatment_group_count = filtered_data[filtered_data['treatment'] == 1]['business_id'].nunique()\n",
    "\n",
    "#print('After timedelta filtering')\n",
    "#print(f\"Control Group: {control_group_count} businesses, Treatment Group: {treatment_group_count} businesses\")"
   ]
  },
  {
   "cell_type": "code",
   "execution_count": 616,
   "metadata": {},
   "outputs": [
    {
     "name": "stderr",
     "output_type": "stream",
     "text": [
      "/var/folders/_v/_hbrmw9n4qjdtrf9w3730x680000gn/T/ipykernel_93155/2498021550.py:2: SettingWithCopyWarning: \n",
      "A value is trying to be set on a copy of a slice from a DataFrame.\n",
      "Try using .loc[row_indexer,col_indexer] = value instead\n",
      "\n",
      "See the caveats in the documentation: https://pandas.pydata.org/pandas-docs/stable/user_guide/indexing.html#returning-a-view-versus-a-copy\n",
      "  filtered_data['text_length'] = filtered_data['text'].apply(len)\n"
     ]
    }
   ],
   "source": [
    "#ADD COLUMN FOR LENGTH OF TEXT-REVIEW\n",
    "filtered_data['text_length'] = filtered_data['text'].apply(len)"
   ]
  },
  {
   "cell_type": "code",
   "execution_count": 617,
   "metadata": {},
   "outputs": [
    {
     "name": "stderr",
     "output_type": "stream",
     "text": [
      "/var/folders/_v/_hbrmw9n4qjdtrf9w3730x680000gn/T/ipykernel_93155/2721293727.py:7: SettingWithCopyWarning: \n",
      "A value is trying to be set on a copy of a slice from a DataFrame.\n",
      "Try using .loc[row_indexer,col_indexer] = value instead\n",
      "\n",
      "See the caveats in the documentation: https://pandas.pydata.org/pandas-docs/stable/user_guide/indexing.html#returning-a-view-versus-a-copy\n",
      "  filtered_data['sentiment_score'] = round(filtered_data['text'].apply(get_sentiment), 4)\n"
     ]
    }
   ],
   "source": [
    "#ADD LOGIC FOR SENTIMENTAL ANALYSIS (package is texblob, rating from -1 to 1)\n",
    "#This is also slow, no idea why.\n",
    "\n",
    "def get_sentiment(text):\n",
    "    return TextBlob(text).sentiment.polarity\n",
    "\n",
    "filtered_data['sentiment_score'] = round(filtered_data['text'].apply(get_sentiment), 4)"
   ]
  },
  {
   "cell_type": "code",
   "execution_count": 618,
   "metadata": {},
   "outputs": [
    {
     "data": {
      "text/html": [
       "<div>\n",
       "<style scoped>\n",
       "    .dataframe tbody tr th:only-of-type {\n",
       "        vertical-align: middle;\n",
       "    }\n",
       "\n",
       "    .dataframe tbody tr th {\n",
       "        vertical-align: top;\n",
       "    }\n",
       "\n",
       "    .dataframe thead th {\n",
       "        text-align: right;\n",
       "    }\n",
       "</style>\n",
       "<table border=\"1\" class=\"dataframe\">\n",
       "  <thead>\n",
       "    <tr style=\"text-align: right;\">\n",
       "      <th></th>\n",
       "      <th>user_id</th>\n",
       "      <th>business_id</th>\n",
       "      <th>stars</th>\n",
       "      <th>text</th>\n",
       "      <th>date</th>\n",
       "      <th>cut_off_date</th>\n",
       "      <th>not_recommended_review_count_pre</th>\n",
       "      <th>treatment</th>\n",
       "    </tr>\n",
       "  </thead>\n",
       "  <tbody>\n",
       "    <tr>\n",
       "      <th>1</th>\n",
       "      <td>9oHOoqk-HlwDS2DlHLi_0g</td>\n",
       "      <td>TttFjRQ-8Iz8by4hsD7iOQ</td>\n",
       "      <td>5</td>\n",
       "      <td>last night we tried to get into the oldest ita...</td>\n",
       "      <td>2017-11-06 17:26:43</td>\n",
       "      <td>1</td>\n",
       "      <td>0.0</td>\n",
       "      <td>0</td>\n",
       "    </tr>\n",
       "    <tr>\n",
       "      <th>4</th>\n",
       "      <td>7ktyPHE-NGnWxarOqjIQiQ</td>\n",
       "      <td>CinrOH8rMB2hEvPY_iFOHA</td>\n",
       "      <td>1</td>\n",
       "      <td>i really wanted to like casselli's, but it was...</td>\n",
       "      <td>2009-03-02 02:05:49</td>\n",
       "      <td>0</td>\n",
       "      <td>2.0</td>\n",
       "      <td>0</td>\n",
       "    </tr>\n",
       "    <tr>\n",
       "      <th>5</th>\n",
       "      <td>vqaJs9VyVLkbixSetsVKyQ</td>\n",
       "      <td>rVfe1LHo55A2fworkm_jVw</td>\n",
       "      <td>5</td>\n",
       "      <td>originally, our little group headed to frankli...</td>\n",
       "      <td>2017-04-30 20:36:07</td>\n",
       "      <td>1</td>\n",
       "      <td>0.0</td>\n",
       "      <td>0</td>\n",
       "    </tr>\n",
       "    <tr>\n",
       "      <th>6</th>\n",
       "      <td>qz1XgXvvtRR8WKyWUXSJig</td>\n",
       "      <td>wUnLSg_GKfEIQ5CQQ770_g</td>\n",
       "      <td>5</td>\n",
       "      <td>i highly recommend this place! this was our fi...</td>\n",
       "      <td>2017-02-20 02:14:55</td>\n",
       "      <td>1</td>\n",
       "      <td>24.0</td>\n",
       "      <td>1</td>\n",
       "    </tr>\n",
       "    <tr>\n",
       "      <th>7</th>\n",
       "      <td>j6auVeGydK6FavvcyHu_Zw</td>\n",
       "      <td>qot32tHVWZpiJibLTwQGyw</td>\n",
       "      <td>4</td>\n",
       "      <td>pina's is easily one of the mroe underated pla...</td>\n",
       "      <td>2011-03-20 20:28:14</td>\n",
       "      <td>0</td>\n",
       "      <td>2.0</td>\n",
       "      <td>0</td>\n",
       "    </tr>\n",
       "  </tbody>\n",
       "</table>\n",
       "</div>"
      ],
      "text/plain": [
       "                  user_id             business_id  stars  \\\n",
       "1  9oHOoqk-HlwDS2DlHLi_0g  TttFjRQ-8Iz8by4hsD7iOQ      5   \n",
       "4  7ktyPHE-NGnWxarOqjIQiQ  CinrOH8rMB2hEvPY_iFOHA      1   \n",
       "5  vqaJs9VyVLkbixSetsVKyQ  rVfe1LHo55A2fworkm_jVw      5   \n",
       "6  qz1XgXvvtRR8WKyWUXSJig  wUnLSg_GKfEIQ5CQQ770_g      5   \n",
       "7  j6auVeGydK6FavvcyHu_Zw  qot32tHVWZpiJibLTwQGyw      4   \n",
       "\n",
       "                                                text                date  \\\n",
       "1  last night we tried to get into the oldest ita... 2017-11-06 17:26:43   \n",
       "4  i really wanted to like casselli's, but it was... 2009-03-02 02:05:49   \n",
       "5  originally, our little group headed to frankli... 2017-04-30 20:36:07   \n",
       "6  i highly recommend this place! this was our fi... 2017-02-20 02:14:55   \n",
       "7  pina's is easily one of the mroe underated pla... 2011-03-20 20:28:14   \n",
       "\n",
       "   cut_off_date  not_recommended_review_count_pre  treatment  \n",
       "1             1                               0.0          0  \n",
       "4             0                               2.0          0  \n",
       "5             1                               0.0          0  \n",
       "6             1                              24.0          1  \n",
       "7             0                               2.0          0  "
      ]
     },
     "execution_count": 618,
     "metadata": {},
     "output_type": "execute_result"
    }
   ],
   "source": [
    "#merged_data_updated['did_dummy'] = merged_data_updated['cut_off_date'] * merged_data_updated['treatment']\n",
    "#merged_data_updated = merged_data_updated.rename('review_id')\n",
    "\n",
    "desired_order = ['user_id', 'business_id', 'date', 'stars', 'text', 'cut_off_date', 'not_recommended_review_count_pre', 'treatment', 'text_length', 'sentiment_score',]\n",
    "filtered_data = filtered_data[desired_order]\n",
    "\n",
    "merged_data_updated.head(5)"
   ]
  },
  {
   "cell_type": "markdown",
   "metadata": {},
   "source": [
    "ANALYSIS OF THE DATA (GRAPHS)"
   ]
  },
  {
   "cell_type": "code",
   "execution_count": 619,
   "metadata": {},
   "outputs": [
    {
     "name": "stdout",
     "output_type": "stream",
     "text": [
      "Reviews in the 24-week window: 2253\n",
      "\n",
      "Reviews in the pre-treatment window: 293\n",
      "Total Business in pre-treatment window: 73\n",
      "\n",
      "Reviews in the post-treatment window: 1960\n",
      "Total Business in post-treatment window: 88\n",
      "\n",
      "Unique restaurants in the 24 time window: 161\n"
     ]
    }
   ],
   "source": [
    "#total number of normal reviews\n",
    "print(f\"Reviews in the 24-week window: {len(filtered_data)}\")\n",
    "print()\n",
    "\n",
    "#total number of normal reviews pre\n",
    "print(f\"Reviews in the pre-treatment window: {len(filtered_data[filtered_data['treatment'] == 0])}\")\n",
    "print(f\"Total Business in pre-treatment window: {filtered_data[filtered_data['treatment'] == 0]['business_id'].nunique()}\")\n",
    "\n",
    "print()\n",
    "\n",
    "#total nubmer of normal reviews after\n",
    "print(f\"Reviews in the post-treatment window: {len(filtered_data[filtered_data['treatment'] == 1])}\")\n",
    "print(f\"Total Business in post-treatment window: {filtered_data[filtered_data['treatment'] == 1]['business_id'].nunique()}\")\n",
    "\n",
    "print()\n",
    "      \n",
    "#print number of unique restaurants in the pre + post time window.\n",
    "print(f'Unique restaurants in the 24 time window: {filtered_data[\"business_id\"].nunique(\"business_id\")}')\n"
   ]
  },
  {
   "cell_type": "code",
   "execution_count": 620,
   "metadata": {},
   "outputs": [],
   "source": [
    "#group by - business_id - 'treatmen' - 'pediod' and doing the means\n",
    "review_counts_period = filtered_data.groupby(['business_id', 'treatment', 'cut_off_date']).agg(\n",
    "    review_count=('business_id', 'size'), #smaller aggregation, maybe for each week,\n",
    ").reset_index()"
   ]
  },
  {
   "cell_type": "code",
   "execution_count": 621,
   "metadata": {},
   "outputs": [],
   "source": [
    "datasets = []\n",
    "for treatment in (0, 1):\n",
    "    for cut_off in (0, 1):  \n",
    "        subset = review_counts_period[(review_counts_period['treatment'] == treatment) & (review_counts_period['cut_off_date'] == cut_off)]\n",
    "        title = f\"{'Treatment' if treatment else 'Control'} - {'After' if cut_off else 'Before'}\"\n",
    "        datasets.append((subset, title))"
   ]
  },
  {
   "cell_type": "code",
   "execution_count": 622,
   "metadata": {},
   "outputs": [
    {
     "data": {
      "image/png": "[encoded data removed]",
      "text/plain": [
       "<Figure size 1400x1000 with 4 Axes>"
      ]
     },
     "metadata": {},
     "output_type": "display_data"
    }
   ],
   "source": [
    "#plot the graphs\n",
    "fig, axs = plt.subplots(2, 2, figsize=(14, 10))\n",
    "axs = axs.flatten()\n",
    "\n",
    "for idx, (data, title) in enumerate(datasets):\n",
    "    if 'review_count' in data.columns:\n",
    "        axs[idx].hist(data['review_count'], bins= 15, edgecolor='black')\n",
    "        # Optionally, set specific locator settings here if needed\n",
    "        # axs[idx].xaxis.set_major_locator(ticker.MaxNLocator(integer=True))\n",
    "        axs[idx].set_title(title)\n",
    "        axs[idx].set_xlabel('Number of Reviews per Business')\n",
    "        axs[idx].set_ylabel('Number of Businesses')\n",
    "    else:\n",
    "        axs[idx].text(0.5, 0.5, 'No review_count data available', ha='center', va='center')\n",
    "        axs[idx].set_title(title)\n",
    "\n",
    "plt.tight_layout()\n",
    "plt.show()"
   ]
  },
  {
   "cell_type": "code",
   "execution_count": 636,
   "metadata": {},
   "outputs": [
    {
     "data": {
      "text/plain": [
       "2253"
      ]
     },
     "execution_count": 636,
     "metadata": {},
     "output_type": "execute_result"
    }
   ],
   "source": [
    "len(filtered_data)"
   ]
  },
  {
   "cell_type": "markdown",
   "metadata": {},
   "source": [
    "STAT-ANALYSIS OF THE DATA (DIVIDED IN TREATMENT - CONTROL X PRE - POST)"
   ]
  },
  {
   "cell_type": "code",
   "execution_count": 623,
   "metadata": {},
   "outputs": [],
   "source": [
    "statistics = {}  # Dictionary to store statistics for each subset\n",
    "\n",
    "for treatment in (0, 1):\n",
    "    for cut_off in (0, 1):\n",
    "        subset = filtered_data[(filtered_data['treatment'] == treatment) & (filtered_data['cut_off_date'] == cut_off)]\n",
    "        \n",
    "        # Dictionary to hold statistics for the current subset\n",
    "        subset_stats = {}\n",
    "        \n",
    "        # List of columns to calculate statistics for\n",
    "        columns_to_analyze = ['stars', 'text_length', 'sentiment_score']\n",
    "        \n",
    "        for column in columns_to_analyze:\n",
    "            # Calculating statistics for each column\n",
    "            subset_stats[column] = {\n",
    "                'count': len(subset),\n",
    "                'mean': subset[column].mean(),\n",
    "                'median': subset[column].median(),\n",
    "                'min': subset[column].min(),\n",
    "                'max': subset[column].max(),\n",
    "                'sd': subset[column].std()\n",
    "            }\n",
    "        \n",
    "        # Storing statistics in the main dictionary with a unique key for each subset\n",
    "        subset_key = f'treatment_{treatment}_cut_off_{cut_off}'\n",
    "        statistics[subset_key] = subset_stats"
   ]
  },
  {
   "cell_type": "code",
   "execution_count": 624,
   "metadata": {},
   "outputs": [
    {
     "name": "stdout",
     "output_type": "stream",
     "text": [
      "Statistics for treatment_0_cut_off_0:\n",
      "  stars:\n",
      "    Count: 108\n",
      "    Mean: 3.75\n",
      "    Median: 4.0\n",
      "    Min: 1\n",
      "    Max: 5\n",
      "    Standard Deviation: 1.361177335367349\n",
      "  text_length:\n",
      "    Count: 108\n",
      "    Mean: 608.925925925926\n",
      "    Median: 486.0\n",
      "    Min: 48\n",
      "    Max: 1984\n",
      "    Standard Deviation: 436.32393230374583\n",
      "  sentiment_score:\n",
      "    Count: 108\n",
      "    Mean: 0.24812222222222222\n",
      "    Median: 0.2666\n",
      "    Min: -0.408\n",
      "    Max: 1.0\n",
      "    Standard Deviation: 0.23316356952955417\n",
      "\n",
      "Statistics for treatment_0_cut_off_1:\n",
      "  stars:\n",
      "    Count: 185\n",
      "    Mean: 3.6216216216216215\n",
      "    Median: 4.0\n",
      "    Min: 1\n",
      "    Max: 5\n",
      "    Standard Deviation: 1.3422756340598732\n",
      "  text_length:\n",
      "    Count: 185\n",
      "    Mean: 665.9513513513514\n",
      "    Median: 504.0\n",
      "    Min: 11\n",
      "    Max: 4696\n",
      "    Standard Deviation: 582.6531453942713\n",
      "  sentiment_score:\n",
      "    Count: 185\n",
      "    Mean: 0.2054372972972973\n",
      "    Median: 0.2145\n",
      "    Min: -0.5333\n",
      "    Max: 0.8333\n",
      "    Standard Deviation: 0.21343478604676794\n",
      "\n",
      "Statistics for treatment_1_cut_off_0:\n",
      "  stars:\n",
      "    Count: 990\n",
      "    Mean: 3.693939393939394\n",
      "    Median: 4.0\n",
      "    Min: 1\n",
      "    Max: 5\n",
      "    Standard Deviation: 1.2878304297292948\n",
      "  text_length:\n",
      "    Count: 990\n",
      "    Mean: 643.2727272727273\n",
      "    Median: 482.5\n",
      "    Min: 35\n",
      "    Max: 4015\n",
      "    Standard Deviation: 552.8611949424937\n",
      "  sentiment_score:\n",
      "    Count: 990\n",
      "    Mean: 0.2602540404040404\n",
      "    Median: 0.2555\n",
      "    Min: -0.8\n",
      "    Max: 1.0\n",
      "    Standard Deviation: 0.2204387153801742\n",
      "\n",
      "Statistics for treatment_1_cut_off_1:\n",
      "  stars:\n",
      "    Count: 970\n",
      "    Mean: 3.7443298969072165\n",
      "    Median: 4.0\n",
      "    Min: 1\n",
      "    Max: 5\n",
      "    Standard Deviation: 1.231087605282951\n",
      "  text_length:\n",
      "    Count: 970\n",
      "    Mean: 681.4082474226805\n",
      "    Median: 510.5\n",
      "    Min: 37\n",
      "    Max: 4951\n",
      "    Standard Deviation: 635.7211358558159\n",
      "  sentiment_score:\n",
      "    Count: 970\n",
      "    Mean: 0.2605357731958763\n",
      "    Median: 0.25045\n",
      "    Min: -0.5\n",
      "    Max: 1.0\n",
      "    Standard Deviation: 0.20780453636536636\n",
      "\n"
     ]
    }
   ],
   "source": [
    "for subset_key, subset_stats in statistics.items():\n",
    "    print(f\"Statistics for {subset_key}:\")\n",
    "    for column, stats in subset_stats.items():\n",
    "        print(f\"  {column}:\")\n",
    "        print(f\"    Count: {stats['count']}\")\n",
    "        print(f\"    Mean: {stats['mean']}\")\n",
    "        print(f\"    Median: {stats['median']}\")\n",
    "        print(f\"    Min: {stats['min']}\")\n",
    "        print(f\"    Max: {stats['max']}\")\n",
    "        print(f\"    Standard Deviation: {stats['sd']}\")\n",
    "    print()  # Print a newline for better readability between subsets"
   ]
  },
  {
   "cell_type": "markdown",
   "metadata": {},
   "source": [
    "ADD CONTROL FOR USER EXPERIENCE "
   ]
  },
  {
   "cell_type": "code",
   "execution_count": 626,
   "metadata": {},
   "outputs": [],
   "source": [
    "user_experience_reviews = pd.read_csv('outcomes/user_experience.csv')\n",
    "user_experience_reviews['date'] = pd.to_datetime(user_experience_reviews['date'])"
   ]
  },
  {
   "cell_type": "code",
   "execution_count": 627,
   "metadata": {},
   "outputs": [],
   "source": [
    "user_experience_reviews = user_experience_reviews[(user_experience_reviews['date'] >= start_date) & (user_experience_reviews['date'] <= end_date)]\n",
    "user_experience_reviews['period'] = np.where(user_experience_reviews['date'] > cut_off_date, 1, 0)"
   ]
  },
  {
   "cell_type": "code",
   "execution_count": 628,
   "metadata": {},
   "outputs": [
    {
     "data": {
      "text/html": [
       "<div>\n",
       "<style scoped>\n",
       "    .dataframe tbody tr th:only-of-type {\n",
       "        vertical-align: middle;\n",
       "    }\n",
       "\n",
       "    .dataframe tbody tr th {\n",
       "        vertical-align: top;\n",
       "    }\n",
       "\n",
       "    .dataframe thead th {\n",
       "        text-align: right;\n",
       "    }\n",
       "</style>\n",
       "<table border=\"1\" class=\"dataframe\">\n",
       "  <thead>\n",
       "    <tr style=\"text-align: right;\">\n",
       "      <th></th>\n",
       "      <th>user_id</th>\n",
       "      <th>experience_count_pre</th>\n",
       "    </tr>\n",
       "  </thead>\n",
       "  <tbody>\n",
       "    <tr>\n",
       "      <th>0</th>\n",
       "      <td>-0KosxqqMBYNfJ7VuvBYDQ</td>\n",
       "      <td>3</td>\n",
       "    </tr>\n",
       "    <tr>\n",
       "      <th>1</th>\n",
       "      <td>-7-d8x5w5c9QolAMgPTKZg</td>\n",
       "      <td>14</td>\n",
       "    </tr>\n",
       "    <tr>\n",
       "      <th>2</th>\n",
       "      <td>-b_Vxkt-KPs14I1TpZAGmg</td>\n",
       "      <td>4</td>\n",
       "    </tr>\n",
       "    <tr>\n",
       "      <th>3</th>\n",
       "      <td>0URlRVBz1omhHV3RSlKdEw</td>\n",
       "      <td>1</td>\n",
       "    </tr>\n",
       "    <tr>\n",
       "      <th>4</th>\n",
       "      <td>0W4JpDuY7myf_vPp03pkUg</td>\n",
       "      <td>3</td>\n",
       "    </tr>\n",
       "  </tbody>\n",
       "</table>\n",
       "</div>"
      ],
      "text/plain": [
       "                  user_id  experience_count_pre\n",
       "0  -0KosxqqMBYNfJ7VuvBYDQ                     3\n",
       "1  -7-d8x5w5c9QolAMgPTKZg                    14\n",
       "2  -b_Vxkt-KPs14I1TpZAGmg                     4\n",
       "3  0URlRVBz1omhHV3RSlKdEw                     1\n",
       "4  0W4JpDuY7myf_vPp03pkUg                     3"
      ]
     },
     "execution_count": 628,
     "metadata": {},
     "output_type": "execute_result"
    }
   ],
   "source": [
    "user_experience_reviews_grouped = user_experience_reviews.groupby(['period', 'user_id']).size().reset_index(name='review_count')\n",
    "\n",
    "user_experience_reviews_pre = user_experience_reviews_grouped[user_experience_reviews_grouped['period'] == 0]\n",
    "user_experience_reviews_pre = user_experience_reviews_pre.rename(columns={'review_count': 'experience_count_pre'})\n",
    "user_experience_reviews_pre.drop(columns=['period'], inplace=True)\n",
    "\n",
    "user_experience_reviews_pre.head()"
   ]
  },
  {
   "cell_type": "code",
   "execution_count": 629,
   "metadata": {},
   "outputs": [
    {
     "data": {
      "text/html": [
       "<div>\n",
       "<style scoped>\n",
       "    .dataframe tbody tr th:only-of-type {\n",
       "        vertical-align: middle;\n",
       "    }\n",
       "\n",
       "    .dataframe tbody tr th {\n",
       "        vertical-align: top;\n",
       "    }\n",
       "\n",
       "    .dataframe thead th {\n",
       "        text-align: right;\n",
       "    }\n",
       "</style>\n",
       "<table border=\"1\" class=\"dataframe\">\n",
       "  <thead>\n",
       "    <tr style=\"text-align: right;\">\n",
       "      <th></th>\n",
       "      <th>user_id</th>\n",
       "      <th>experience_count_post</th>\n",
       "    </tr>\n",
       "  </thead>\n",
       "  <tbody>\n",
       "    <tr>\n",
       "      <th>296</th>\n",
       "      <td>-7-d8x5w5c9QolAMgPTKZg</td>\n",
       "      <td>8</td>\n",
       "    </tr>\n",
       "    <tr>\n",
       "      <th>297</th>\n",
       "      <td>-mh5GR8fNXi2jOPbMKK-5g</td>\n",
       "      <td>4</td>\n",
       "    </tr>\n",
       "    <tr>\n",
       "      <th>298</th>\n",
       "      <td>-r-kbeTRK94fORk0y20H3g</td>\n",
       "      <td>16</td>\n",
       "    </tr>\n",
       "    <tr>\n",
       "      <th>299</th>\n",
       "      <td>0K3droTdvmQdejzOFvBGYg</td>\n",
       "      <td>1</td>\n",
       "    </tr>\n",
       "    <tr>\n",
       "      <th>300</th>\n",
       "      <td>0SEcsMW9vkUepBCFGAYVyg</td>\n",
       "      <td>1</td>\n",
       "    </tr>\n",
       "  </tbody>\n",
       "</table>\n",
       "</div>"
      ],
      "text/plain": [
       "                    user_id  experience_count_post\n",
       "296  -7-d8x5w5c9QolAMgPTKZg                      8\n",
       "297  -mh5GR8fNXi2jOPbMKK-5g                      4\n",
       "298  -r-kbeTRK94fORk0y20H3g                     16\n",
       "299  0K3droTdvmQdejzOFvBGYg                      1\n",
       "300  0SEcsMW9vkUepBCFGAYVyg                      1"
      ]
     },
     "execution_count": 629,
     "metadata": {},
     "output_type": "execute_result"
    }
   ],
   "source": [
    "user_experience_reviews_post = user_experience_reviews_grouped[user_experience_reviews_grouped['period'] == 1]\n",
    "user_experience_reviews_post = user_experience_reviews_post.rename(columns={'review_count': 'experience_count_post'})\n",
    "user_experience_reviews_post.drop(columns=['period'], inplace=True)\n",
    "\n",
    "user_experience_reviews_post.head()"
   ]
  },
  {
   "cell_type": "code",
   "execution_count": 630,
   "metadata": {},
   "outputs": [
    {
     "name": "stdout",
     "output_type": "stream",
     "text": [
      "2253\n"
     ]
    }
   ],
   "source": [
    "filtered_data_ready = pd.merge(filtered_data, user_experience_reviews_pre, how='left', on='user_id')\n",
    "filtered_data_ready = pd.merge(filtered_data, user_experience_reviews_post, how='left', on='user_id')\n",
    "\n",
    "print(len(filtered_data_ready))"
   ]
  },
  {
   "cell_type": "code",
   "execution_count": 631,
   "metadata": {},
   "outputs": [
    {
     "data": {
      "text/html": [
       "<div>\n",
       "<style scoped>\n",
       "    .dataframe tbody tr th:only-of-type {\n",
       "        vertical-align: middle;\n",
       "    }\n",
       "\n",
       "    .dataframe tbody tr th {\n",
       "        vertical-align: top;\n",
       "    }\n",
       "\n",
       "    .dataframe thead th {\n",
       "        text-align: right;\n",
       "    }\n",
       "</style>\n",
       "<table border=\"1\" class=\"dataframe\">\n",
       "  <thead>\n",
       "    <tr style=\"text-align: right;\">\n",
       "      <th></th>\n",
       "      <th>user_id</th>\n",
       "      <th>business_id</th>\n",
       "      <th>date</th>\n",
       "      <th>stars</th>\n",
       "      <th>text</th>\n",
       "      <th>cut_off_date</th>\n",
       "      <th>not_recommended_review_count_pre</th>\n",
       "      <th>treatment</th>\n",
       "      <th>text_length</th>\n",
       "      <th>sentiment_score</th>\n",
       "    </tr>\n",
       "  </thead>\n",
       "  <tbody>\n",
       "    <tr>\n",
       "      <th>33</th>\n",
       "      <td>X9jjZ93FFoVEo6lqy6CAGw</td>\n",
       "      <td>L2pmVQMrpY-yZwZkZoRt5g</td>\n",
       "      <td>2013-10-03 17:03:48</td>\n",
       "      <td>1</td>\n",
       "      <td>over priced . every time i go there the owner ...</td>\n",
       "      <td>0</td>\n",
       "      <td>1.0</td>\n",
       "      <td>0</td>\n",
       "      <td>414</td>\n",
       "      <td>-0.1788</td>\n",
       "    </tr>\n",
       "    <tr>\n",
       "      <th>93</th>\n",
       "      <td>6Aoc41NBmiCoXIV3cItzFQ</td>\n",
       "      <td>DRr5xdfHtqgWfhmdTU1B8Q</td>\n",
       "      <td>2013-12-28 22:36:41</td>\n",
       "      <td>4</td>\n",
       "      <td>i fell upon this great little pub after a tour...</td>\n",
       "      <td>1</td>\n",
       "      <td>22.0</td>\n",
       "      <td>1</td>\n",
       "      <td>269</td>\n",
       "      <td>0.3246</td>\n",
       "    </tr>\n",
       "    <tr>\n",
       "      <th>142</th>\n",
       "      <td>UOMS3mJV69wYrbSR21tvdg</td>\n",
       "      <td>wUnLSg_GKfEIQ5CQQ770_g</td>\n",
       "      <td>2013-12-30 02:24:36</td>\n",
       "      <td>5</td>\n",
       "      <td>by far one of the best meals/experiences i've ...</td>\n",
       "      <td>1</td>\n",
       "      <td>24.0</td>\n",
       "      <td>1</td>\n",
       "      <td>258</td>\n",
       "      <td>0.4000</td>\n",
       "    </tr>\n",
       "    <tr>\n",
       "      <th>156</th>\n",
       "      <td>0tBVHzvDXpCvm5h1cXm2oQ</td>\n",
       "      <td>uKAbrDSJJzZliY1Yqu5KxQ</td>\n",
       "      <td>2014-01-18 06:34:39</td>\n",
       "      <td>2</td>\n",
       "      <td>def,, not a place i got for italian food ever ...</td>\n",
       "      <td>1</td>\n",
       "      <td>15.0</td>\n",
       "      <td>1</td>\n",
       "      <td>156</td>\n",
       "      <td>0.2131</td>\n",
       "    </tr>\n",
       "    <tr>\n",
       "      <th>214</th>\n",
       "      <td>1TVFpuoMj2Xed9k9Q7VrUA</td>\n",
       "      <td>Bih0eT_lbbCUwKmGYpX0hw</td>\n",
       "      <td>2013-11-16 19:18:44</td>\n",
       "      <td>4</td>\n",
       "      <td>i love this place. great ingredients, friendly...</td>\n",
       "      <td>1</td>\n",
       "      <td>1.0</td>\n",
       "      <td>0</td>\n",
       "      <td>136</td>\n",
       "      <td>0.4421</td>\n",
       "    </tr>\n",
       "  </tbody>\n",
       "</table>\n",
       "</div>"
      ],
      "text/plain": [
       "                    user_id             business_id                date  \\\n",
       "33   X9jjZ93FFoVEo6lqy6CAGw  L2pmVQMrpY-yZwZkZoRt5g 2013-10-03 17:03:48   \n",
       "93   6Aoc41NBmiCoXIV3cItzFQ  DRr5xdfHtqgWfhmdTU1B8Q 2013-12-28 22:36:41   \n",
       "142  UOMS3mJV69wYrbSR21tvdg  wUnLSg_GKfEIQ5CQQ770_g 2013-12-30 02:24:36   \n",
       "156  0tBVHzvDXpCvm5h1cXm2oQ  uKAbrDSJJzZliY1Yqu5KxQ 2014-01-18 06:34:39   \n",
       "214  1TVFpuoMj2Xed9k9Q7VrUA  Bih0eT_lbbCUwKmGYpX0hw 2013-11-16 19:18:44   \n",
       "\n",
       "     stars                                               text  cut_off_date  \\\n",
       "33       1  over priced . every time i go there the owner ...             0   \n",
       "93       4  i fell upon this great little pub after a tour...             1   \n",
       "142      5  by far one of the best meals/experiences i've ...             1   \n",
       "156      2  def,, not a place i got for italian food ever ...             1   \n",
       "214      4  i love this place. great ingredients, friendly...             1   \n",
       "\n",
       "     not_recommended_review_count_pre  treatment  text_length  sentiment_score  \n",
       "33                                1.0          0          414          -0.1788  \n",
       "93                               22.0          1          269           0.3246  \n",
       "142                              24.0          1          258           0.4000  \n",
       "156                              15.0          1          156           0.2131  \n",
       "214                               1.0          0          136           0.4421  "
      ]
     },
     "execution_count": 631,
     "metadata": {},
     "output_type": "execute_result"
    }
   ],
   "source": [
    "filtered_data.head()"
   ]
  },
  {
   "cell_type": "markdown",
   "metadata": {},
   "source": [
    "TEST HYPOTHESIS"
   ]
  },
  {
   "cell_type": "code",
   "execution_count": 632,
   "metadata": {},
   "outputs": [],
   "source": [
    "# # H1:  A high number of 'not recommended' reviews decrease future sales to the restaurant.\n",
    "\n",
    "# #filter also by year/week\n",
    "# filtered_data['year'] = filtered_data['date'].dt.year\n",
    "# filtered_data['week_number'] = filtered_data['date'].dt.isocalendar().week\n",
    "\n",
    "# review_counts_by_week = filtered_data.groupby(['business_id', 'treatment', 'cut_off_date', 'year', 'week_number']).agg(\n",
    "#     review_count=('business_id', 'size') # Aggregation for review counts\n",
    "# ).reset_index()\n",
    "\n",
    "# formula = 'review_count ~ treatment + cut_off_date + treatment:cut_off_date'\n",
    "\n",
    "# # Fit the regression model using OLS with the direct interaction term in the formula\n",
    "# model = smf.ols(formula=formula, data=review_counts_by_week).fit()\n",
    "\n",
    "# # Print the summary of the regression model\n",
    "# print(model.summary())\n"
   ]
  },
  {
   "cell_type": "code",
   "execution_count": 633,
   "metadata": {},
   "outputs": [],
   "source": [
    "\n",
    "# # H2:  A high number of ‚not recommended’ reviews decreases the rating score of future reviews.\n",
    "# # Define the regression formula with an interaction term included directly\n",
    "# formula = 'stars ~ treatment + cut_off_date + treatment:cut_off_date'\n",
    "\n",
    "# # Fit the regression model using OLS with the direct interaction term in the formula\n",
    "# model = smf.ols(formula=formula, data=filtered_data).fit()\n",
    "\n",
    "# # Print the summary of the regression model\n",
    "# print(model.summary())\n"
   ]
  },
  {
   "cell_type": "code",
   "execution_count": 634,
   "metadata": {},
   "outputs": [],
   "source": [
    "# #H3: Textual sentiment decreases for 1- and 2-star reviews when the number of ‚not recommended’ reviews is high.\n",
    "\n",
    "# #filter only reviews with 1 or 2 stars\n",
    "# filtered_data_2_stars = filtered_data[filtered_data['stars'] <= 2]\n",
    "\n",
    "# formula = 'sentiment_score ~ treatment + cut_off_date + treatment:cut_off_date'\n",
    "\n",
    "# # Fit the regression model using OLS with the direct interaction term in the formula\n",
    "# model = smf.ols(formula=formula, data=filtered_data).fit()\n",
    "\n",
    "# # Print the summary of the regression model\n",
    "# print(model.summary())\n"
   ]
  },
  {
   "cell_type": "code",
   "execution_count": 635,
   "metadata": {},
   "outputs": [],
   "source": [
    "#H4: Textual sentiment increases for 4- and 5-star reviews when the number of ‚not recommended’ reviews is high.\n",
    "\n",
    "#filter only reviews with 1 or 2 stars\n",
    "#filtered_data = filtered_data[filtered_data['stars'] > 2]\n",
    "\n",
    "#formula = 'sentiment_score ~ treatment + cut_off_date + treatment:cut_off_date'\n",
    "\n",
    "# Fit the regression model using OLS with the direct interaction term in the formula\n",
    "#model = smf.ols(formula=formula, data=filtered_data).fit()\n",
    "\n",
    "# Print the summary of the regression model\n",
    "#print(model.summary())"
   ]
  }
 ],
 "metadata": {
  "kernelspec": {
   "display_name": ".venv",
   "language": "python",
   "name": "python3"
  },
  "language_info": {
   "codemirror_mode": {
    "name": "ipython",
    "version": 3
   },
   "file_extension": ".py",
   "mimetype": "text/x-python",
   "name": "python",
   "nbconvert_exporter": "python",
   "pygments_lexer": "ipython3",
   "version": "3.11.2"
  }
 },
 "nbformat": 4,
 "nbformat_minor": 2
}
